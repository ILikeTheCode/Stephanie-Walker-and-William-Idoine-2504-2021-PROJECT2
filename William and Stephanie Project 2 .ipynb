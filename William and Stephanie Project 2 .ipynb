{
 "cells": [
  {
   "cell_type": "markdown",
   "source": [
    "# William Idione and Stephanie Walker MATH2504 Project 2\n",
    "\n",
    "\n",
    "### Student Names and Numbers: \n",
    "William Idione and Stephanie Walker: 45875526\n",
    "\n",
    "#### [Link to GitHub repo](https://github.com/ILikeTheCode/Stephanie-Walker-and-William-Idoine-2504-2021-PROJECT2) \n"
   ],
   "metadata": {}
  },
  {
   "cell_type": "markdown",
   "source": [
    "### Summaries as required"
   ],
   "metadata": {}
  },
  {
   "cell_type": "markdown",
   "source": [
    "### Perspective seminar question\n",
    "\n",
    "Dr. Anna Foeglein provided a seminar presentation on her career, her relationship with software and mathematics and the ways in which simulation plays a significant role in her life.  Anna’s early experience with software and mathematics was in her family, where her parents were mathematicians that became software developers, bringing early simulation technology and gaming with them.  Anna studied pure mathematics at university, namely regularity theory.  Upon moving to Australia, she struggled to get a job, however, came across an area that sparked her interest.  Whereby, she left academia and was connected to simulation where an interest and passion for problem solving was developed: Anna still works with simulation and problem solving today.\n",
    "\n",
    "Anna currently works for a logistics company that helps the state ensure efficiency in the shipping of coal exports.  An example of such an application was explored through Anna’s explanation of the Darlymple Bay Coal Chain, whereby she explored the thinking behind what is required to optimise the chain using her simulation and modelling practices.  She explained that animation models are not always the best way to model and explore systems, as it increases complexity, and you can’t read much off the model.  She noted that in industry, there is a place for such models in terms of gaining stakeholder interest, however, there are technical possibilities that constrain simulations in real-life.  Based on the original model, Anna further highlighted the need to ask questions of yourself and the tasks that are being undertaken: “how is this useful?”, “what does this mean?”, “what is this?”, to name a few.  She also emphasised the software development role in maintaining the software that models the simulations and how the tedious nature of ensuring the software is up-to-date and bug fixes are completed is deeply embedded in this area of problem solving.\n",
    "\n",
    "Overall, Anna explored the notion that in industry, simulations make experiments cheaper and faster, and sometimes you need to experiment with a system, in order to, optimise it, and this is particularly evident in her position working with the coal industry with large investors requiring efficiency and economic solutions to problems that arise.  She emphasised that once you figure out how your simulation works, it is easy and important to reuse and recycle models.  A key term that was mentioned in this seminar that will be a significant take away is ‘mathematise’, whereby, finding clear links to decisions that need to be made, the goals of organisations and people, and the need to be specific and quantifiable, are all embedded in the thinking required to effectively conduct simulations and experiments for systems.\n",
    "\n"
   ],
   "metadata": {}
  },
  {
   "cell_type": "code",
   "execution_count": null,
   "source": [],
   "outputs": [],
   "metadata": {}
  }
 ],
 "metadata": {
  "kernelspec": {
   "display_name": "Julia 1.6.2",
   "language": "julia",
   "name": "julia-1.6"
  },
  "language_info": {
   "file_extension": ".jl",
   "mimetype": "application/julia",
   "name": "julia",
   "version": "1.6.2"
  }
 },
 "nbformat": 4,
 "nbformat_minor": 5
}