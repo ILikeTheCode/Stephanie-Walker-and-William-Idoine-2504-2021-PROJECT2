{
 "cells": [
  {
   "cell_type": "markdown",
   "source": [
    "# William Idione and Stephanie Walker MATH2504 Project 2\n",
    "\n",
    "\n",
    "### Student Names and Numbers: \n",
    "William Idione and Stephanie Walker: 45875526\n",
    "\n",
    "#### [Link to GitHub repo](https://github.com/ILikeTheCode/Stephanie-Walker-and-William-Idoine-2504-2021-PROJECT2) \n"
   ],
   "metadata": {}
  },
  {
   "cell_type": "markdown",
   "source": [
    "### Summaries as required"
   ],
   "metadata": {}
  },
  {
   "cell_type": "markdown",
   "source": [
    "### Perspective seminar question\n",
    "\n",
    "Dr. Anna Foeglein provided a seminar presentation on her career, her relationship with software and mathematics and the ways in which simulation plays a significant role in her life.  Anna’s early experience with software and mathematics was in her family, where her mathematician parents turned software developers, brought early simulation technology and gaming with them into the family home.  Having spent thousands of hours of her teenage years spent playing simulation and real time strategy games such as Age of Empires, SimCity and Centurion, Dr. Anna Foeglein has lived her life surrounded by digital adventures and simulations both small and large in scale.  \n",
    "\n",
    "Dr. Foeglein is a PhD graduate from the University of Erlangen and started her career in analysis researching regularity theory with a focus on Heisenberg groups before moving to Brisbane and quickly rising to be one of the biggest names in discrete event simulation in Australia.  Upon moving to Australia, she struggled to get a job, and came to realise that pursuing a life of mathematics in academia wasn’t aligned with her interests.  Whereby, a pivot to software development within the Brisbane based firm, The Simulations Group (TSG), Dr. Foeglein worked as a developer and logistics analyst from 2010 to 2019.  Dr. Foeglein switched companies in 2019, and became a simulations developer and analyst at The Integrated Logistics Company where she currently works to this day, modelling and exploring the efficiency in the shipping of coal mining exports.  Her work primarily deals with south east Queensland’s coal exports and she remarks that she regularly deals with project stakeholders to showcase her simulations and renders and discuss the results of her analysis. With her overall cheery attitude along with her admiration of well-constructed model train sets and locomotive system dioramas; reminders of her work clearly don’t exhaust Dr. Foeglein as she seems to thoroughly enjoy her career. She does, however, imply that she feels some guilt due to the stigmas associated with working in the coal industry, which acts as a reminder that our personal values can act independently to work done in our careers.\n",
    "\n",
    "Dr. Foeglein mentions that in her day-to-day work, she uses an Eclipse-like IDE and frequently utilizes languages such as R and Python alongside the software packages AnyLogic and Arena with some uses of Excel in between them all. She jokes that though she has a love-hate relationship with Excel, she finds its surprisingly good once you’re adept at it, however, R is generally nicer to use. Foeglein also deviates by explaining that after the Boston Consulting acquisition, TSG lost their rights to sell and distribute the software AnyLogic to Australia and thus, Dr. Foeglein currently undertakes distributing AnyLogic as her own personal business venture. She remarks how this is daunting for her, but rewarding nonetheless.  Dr. Foeglein continually reaffirms the idea that computational simulations are a fantastic method of experimentation which allows for business and operations decisions to be made safely and with a logical basis and doubles down on this by stating “experimenting on a computer is better than experimenting in a way that you can be held liable for by the people that are paying contracts”. She asserts that even rudimentary simulations greatly assist in testing operational concepts such as, “ What if we sped up the [freight] yard across instead of length wise?” and “Do we need this [machinery]? How big does it have to be? Does it need to be able to stack? Or just to reclaim? Should we make it be able to directly load onto our ship or not or just do piles? Before you build one of those things that cost millions and millions, it’s really good to try it out on a computer.”\n",
    "\n",
    "Overall, Anna explored the notion that in industry, simulations make experiments cheaper and faster, and sometimes you need to experiment with a system, in order to, optimise it, and this is particularly evident in her position working with the coal industry with large investors requiring efficiency and economic solutions to problems that arise.  She emphasised that once you figure out how your simulation works, it is easy and important to reuse and recycle models.  A key term that was mentioned in this seminar that will be a significant take away is ‘mathematise’, whereby, finding clear links to decisions that need to be made, the goals of organisations and people, and the need to be specific and quantifiable, are all embedded in the thinking required to effectively conduct simulations and experiments for systems.  After the seminar, I came to the realisation of how little I knew about the world of operations research (OR), as the only OR software package that I had been exposed to prior to this was MATLAB and Simulink. Before this, I had never even heard of the likes of SimPy or JaamSim, despite being a JavaScript developer myself, let alone hearing of FlexSim, SLX, or ExtendSim. I found it nice to know though that if I ever chose to pursue a career in OR, I could learn any of this software in my personal spare time as most software packages within the space come with non-commercial free trial versions. This coupled with Dr. Foeglein’s anecdote stating that “Most people in the simulation and OR space are generally super nice”, left a very positive impression on me and made me eager to consider pursuing a career in OR after my studies have finished."
   ],
   "metadata": {}
  }
 ],
 "metadata": {
  "kernelspec": {
   "display_name": "Julia 1.6.2",
   "language": "julia",
   "name": "julia-1.6"
  },
  "language_info": {
   "file_extension": ".jl",
   "mimetype": "application/julia",
   "name": "julia",
   "version": "1.6.2"
  }
 },
 "nbformat": 4,
 "nbformat_minor": 5
}