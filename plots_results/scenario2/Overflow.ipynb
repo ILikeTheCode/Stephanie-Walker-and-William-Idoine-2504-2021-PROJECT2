{
 "cells": [
  {
   "cell_type": "markdown",
   "source": [
    "## Overflow for scenario 2 with initial_state = 12"
   ],
   "metadata": {}
  },
  {
   "cell_type": "code",
   "execution_count": null,
   "source": [
    "0.000000 seconds\n",
    "[5, 1, 0]\n",
    "18\n",
    "296.874257 seconds (5.75 G allocations: 224.092 GiB, 10.19% gc time, 0.06% compilation time)\n",
    "NetworkState(18, [5, 1, 0], false, 0)"
   ],
   "outputs": [],
   "metadata": {}
  }
 ],
 "metadata": {
  "kernelspec": {
   "display_name": "Julia 1.6.2",
   "language": "julia",
   "name": "julia-1.6"
  },
  "language_info": {
   "file_extension": ".jl",
   "mimetype": "application/julia",
   "name": "julia",
   "version": "1.6.2"
  }
 },
 "nbformat": 4,
 "nbformat_minor": 5
}