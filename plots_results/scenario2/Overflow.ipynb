{
 "cells": [
  {
   "cell_type": "markdown",
   "source": [
    "## Output from overflow test for scenario 2 with initial_state = 12"
   ],
   "metadata": {}
  },
  {
   "cell_type": "markdown",
   "source": [
    "at time = 10e+7\n",
    "\n",
    "0.000000 seconds\n",
    "\n",
    "[5, 1, 0]\n",
    "\n",
    "18\n",
    "\n",
    "296.874257 seconds (5.75 G allocations: 224.092 GiB, 10.19% gc time, 0.06% compilation time)\n",
    "\n",
    "NetworkState(18, [5, 1, 0], false, 0)"
   ],
   "metadata": {}
  },
  {
   "cell_type": "markdown",
   "source": [
    "## Output from overflow test for scenario 2 with initial_state = 6"
   ],
   "metadata": {}
  },
  {
   "cell_type": "markdown",
   "source": [
    "at time = 10e+4\n",
    "\n",
    "0.000000 seconds\n",
    "\n",
    "[5, 0, 0]\n",
    "\n",
    "11\n",
    "\n",
    "  0.489657 seconds (5.93 M allocations: 241.858 MiB, 7.18% gc time, 35.40% compilation time)\n",
    "  \n",
    "NetworkState(11, [5, 0, 0], false, 0)"
   ],
   "metadata": {}
  },
  {
   "cell_type": "markdown",
   "source": [],
   "metadata": {}
  }
 ],
 "metadata": {
  "kernelspec": {
   "display_name": "Julia 1.6.2",
   "language": "julia",
   "name": "julia-1.6"
  },
  "language_info": {
   "file_extension": ".jl",
   "mimetype": "application/julia",
   "name": "julia",
   "version": "1.6.2"
  }
 },
 "nbformat": 4,
 "nbformat_minor": 5
}