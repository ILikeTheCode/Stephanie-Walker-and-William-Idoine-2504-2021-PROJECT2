{
 "cells": [
  {
   "cell_type": "markdown",
   "source": [
    "## Overflow for scenario 4 with initial_state = 12"
   ],
   "metadata": {}
  },
  {
   "cell_type": "markdown",
   "source": [
    "0.000000 seconds\n",
    "\n",
    "[5183, 4, 6, 5, 10]\n",
    "\n",
    "5222\n",
    "\n",
    "  2.542550 seconds (43.41 M allocations: 1.657 GiB, 6.25% gc time, 25.31% compilation time)\n",
    "  \n",
    "NetworkState(5222, [5183, 4, 6, 5, 10], false, 2)"
   ],
   "metadata": {}
  },
  {
   "cell_type": "markdown",
   "source": [],
   "metadata": {}
  }
 ],
 "metadata": {
  "kernelspec": {
   "display_name": "Julia 1.6.2",
   "language": "julia",
   "name": "julia-1.6"
  }
 },
 "nbformat": 4,
 "nbformat_minor": 5
}