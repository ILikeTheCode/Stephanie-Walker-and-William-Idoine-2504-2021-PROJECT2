{
 "cells": [
  {
   "cell_type": "markdown",
   "source": [
    "## Output from overflow test for scenario 4 with initial_state = 12"
   ],
   "metadata": {}
  },
  {
   "cell_type": "markdown",
   "source": [
    "at time = 10e+4\n",
    "\n",
    "0.000000 seconds\n",
    "\n",
    "[5183, 4, 6, 5, 10]\n",
    "\n",
    "5222\n",
    "\n",
    "  2.542550 seconds (43.41 M allocations: 1.657 GiB, 6.25% gc time, 25.31% compilation time)\n",
    "  \n",
    "NetworkState(5222, [5183, 4, 6, 5, 10], false, 2)"
   ],
   "metadata": {}
  },
  {
   "cell_type": "markdown",
   "source": [
    "## Output from overflow test for scenario 4 with initial_state = 6"
   ],
   "metadata": {}
  },
  {
   "cell_type": "markdown",
   "source": [
    "at time = 10e+4\n",
    "\n",
    "0.000000 seconds\n",
    "\n",
    "[5183, 4, 6, 5, 10]\n",
    "\n",
    "5216\n",
    "\n",
    "  2.233929 seconds (42.13 M allocations: 1.584 GiB, 6.93% gc time, 8.99% compilation time)\n",
    "  \n",
    "NetworkState(5216, [5183, 4, 6, 5, 10], false, 2)"
   ],
   "metadata": {}
  },
  {
   "cell_type": "markdown",
   "source": [
    "## Output from overflow test for scenario 4 with initial_state = 36"
   ],
   "metadata": {}
  },
  {
   "cell_type": "markdown",
   "source": [
    "at time = 10e+4\n",
    "\n",
    "0.000000 seconds\n",
    "\n",
    "[5183, 4, 6, 5, 10]\n",
    "\n",
    "5246\n",
    "\n",
    "  2.222292 seconds (42.17 M allocations: 1.584 GiB, 7.18% gc time, 7.95% compilation time)\n",
    "  \n",
    "NetworkState(5246, [5183, 4, 6, 5, 10], false, 2)"
   ],
   "metadata": {}
  },
  {
   "cell_type": "markdown",
   "source": [],
   "metadata": {}
  }
 ],
 "metadata": {
  "kernelspec": {
   "display_name": "Julia 1.6.2",
   "language": "julia",
   "name": "julia-1.6"
  }
 },
 "nbformat": 4,
 "nbformat_minor": 5
}