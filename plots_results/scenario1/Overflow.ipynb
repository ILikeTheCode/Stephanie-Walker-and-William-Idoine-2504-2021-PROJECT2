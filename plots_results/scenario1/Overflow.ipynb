{
 "cells": [
  {
   "cell_type": "markdown",
   "source": [
    "## Output from overflow test of scenario 1 with initial_state = 12"
   ],
   "metadata": {}
  },
  {
   "cell_type": "markdown",
   "source": [
    "at time = 10e+7\n",
    "\n",
    "0.000000 seconds\n",
    "\n",
    "[0, 4, 5]\n",
    "\n",
    "21\n",
    "\n",
    "255.912414 seconds (4.91 G allocations: 190.379 GiB, 9.69% gc time, 0.08% compilation time)\n",
    "\n",
    "NetworkState(21, [0, 4, 5], false, 0)"
   ],
   "metadata": {}
  },
  {
   "cell_type": "code",
   "execution_count": null,
   "source": [],
   "outputs": [],
   "metadata": {}
  }
 ],
 "metadata": {
  "kernelspec": {
   "display_name": "Julia 1.6.2",
   "language": "julia",
   "name": "julia-1.6"
  },
  "language_info": {
   "file_extension": ".jl",
   "mimetype": "application/julia",
   "name": "julia",
   "version": "1.6.2"
  }
 },
 "nbformat": 4,
 "nbformat_minor": 5
}