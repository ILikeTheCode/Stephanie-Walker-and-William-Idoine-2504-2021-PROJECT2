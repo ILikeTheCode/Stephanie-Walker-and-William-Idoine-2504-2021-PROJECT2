{
 "cells": [
  {
   "cell_type": "markdown",
   "source": [
    "## Output from overflow test for scenario 1 with initial_state = 12"
   ],
   "metadata": {}
  },
  {
   "cell_type": "markdown",
   "source": [
    "at time = 10e+7\n",
    "\n",
    "0.000000 seconds\n",
    "\n",
    "[0, 4, 5]\n",
    "\n",
    "21\n",
    "\n",
    "255.912414 seconds (4.91 G allocations: 190.379 GiB, 9.69% gc time, 0.08% compilation time)\n",
    "\n",
    "NetworkState(21, [0, 4, 5], false, 0)"
   ],
   "metadata": {}
  },
  {
   "cell_type": "markdown",
   "source": [
    "## Output from overflow test for scenario 1 with initial_state = 6"
   ],
   "metadata": {}
  },
  {
   "cell_type": "markdown",
   "source": [
    "at time = 10e+4\n",
    "\n",
    "0.000000 seconds\n",
    "\n",
    "[5, 3, 2]\n",
    "\n",
    "16\n",
    "\n",
    "  0.466785 seconds (5.07 M allocations: 206.467 MiB, 6.30% gc time, 36.10% compilation time)\n",
    "  \n",
    "NetworkState(16, [5, 3, 2], false, 0)"
   ],
   "metadata": {}
  },
  {
   "cell_type": "markdown",
   "source": [],
   "metadata": {}
  }
 ],
 "metadata": {
  "kernelspec": {
   "display_name": "Julia 1.6.2",
   "language": "julia",
   "name": "julia-1.6"
  },
  "language_info": {
   "file_extension": ".jl",
   "mimetype": "application/julia",
   "name": "julia",
   "version": "1.6.2"
  }
 },
 "nbformat": 4,
 "nbformat_minor": 5
}