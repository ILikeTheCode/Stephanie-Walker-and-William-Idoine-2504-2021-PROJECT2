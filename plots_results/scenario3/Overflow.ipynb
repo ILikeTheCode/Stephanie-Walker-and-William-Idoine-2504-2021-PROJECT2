{
 "cells": [
  {
   "cell_type": "markdown",
   "source": [
    "## Output from overflow test for scenario 3 with initial_state = 12"
   ],
   "metadata": {}
  },
  {
   "cell_type": "markdown",
   "source": [
    "at time = 10e+7\n",
    "\n",
    "0.000000 seconds\n",
    "\n",
    "[4, 3, 1]\n",
    "\n",
    "21\n",
    "\n",
    "393.199997 seconds (7.41 G allocations: 291.485 GiB, 12.88% gc time, 0.04% compilation time)\n",
    "\n",
    "NetworkState(21, [4, 3, 1], false, 1)"
   ],
   "metadata": {}
  },
  {
   "cell_type": "markdown",
   "source": [
    "## Output from overflow test for scenario 3 with initial_state = 6"
   ],
   "metadata": {}
  },
  {
   "cell_type": "markdown",
   "source": [
    "at time = 10e+4\n",
    "\n",
    "0.000000 seconds\n",
    "\n",
    "[5, 2, 2]\n",
    "\n",
    "15\n",
    "\n",
    "  0.594612 seconds (7.61 M allocations: 311.654 MiB, 7.36% gc time, 27.89% compilation time)\n",
    "  \n",
    "NetworkState(15, [5, 2, 2], false, 0)"
   ],
   "metadata": {}
  },
  {
   "cell_type": "markdown",
   "source": [
    "## Ooutput from overflow test for scenario 3 with initial_state = 36"
   ],
   "metadata": {}
  },
  {
   "cell_type": "markdown",
   "source": [
    "at time = 10e+4 \n",
    "\n",
    "0.000000 seconds\n",
    "\n",
    "[5, 2, 2]\n",
    "\n",
    "45\n",
    "\n",
    "  0.550718 seconds (7.61 M allocations: 311.662 MiB, 6.04% gc time, 30.23% compilation time)\n",
    "  \n",
    "NetworkState(45, [5, 2, 2], false, 0)"
   ],
   "metadata": {}
  },
  {
   "cell_type": "markdown",
   "source": [],
   "metadata": {}
  }
 ],
 "metadata": {
  "kernelspec": {
   "display_name": "Julia 1.6.2",
   "language": "julia",
   "name": "julia-1.6"
  },
  "language_info": {
   "file_extension": ".jl",
   "mimetype": "application/julia",
   "name": "julia",
   "version": "1.6.2"
  }
 },
 "nbformat": 4,
 "nbformat_minor": 5
}