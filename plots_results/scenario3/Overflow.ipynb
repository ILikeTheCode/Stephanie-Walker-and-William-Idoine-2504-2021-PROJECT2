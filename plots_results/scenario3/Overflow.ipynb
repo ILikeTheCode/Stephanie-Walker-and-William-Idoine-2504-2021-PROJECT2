{
 "cells": [
  {
   "cell_type": "code",
   "execution_count": null,
   "source": [
    "0.000000 seconds\n",
    "[4, 3, 1]\n",
    "21\n",
    "393.199997 seconds (7.41 G allocations: 291.485 GiB, 12.88% gc time, 0.04% compilation time)\n",
    "NetworkState(21, [4, 3, 1], false, 1)"
   ],
   "outputs": [],
   "metadata": {}
  }
 ],
 "metadata": {
  "kernelspec": {
   "display_name": "Julia 1.6.2",
   "language": "julia",
   "name": "julia-1.6"
  },
  "language_info": {
   "file_extension": ".jl",
   "mimetype": "application/julia",
   "name": "julia",
   "version": "1.6.2"
  }
 },
 "nbformat": 4,
 "nbformat_minor": 5
}