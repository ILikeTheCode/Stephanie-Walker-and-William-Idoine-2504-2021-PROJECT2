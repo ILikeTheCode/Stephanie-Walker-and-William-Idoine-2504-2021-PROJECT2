{
 "cells": [
  {
   "cell_type": "markdown",
   "source": [
    "## Overflow for scenario 3 with initial_state = 12"
   ],
   "metadata": {}
  },
  {
   "cell_type": "markdown",
   "source": [
    "at time = 10e+7\n",
    "\n",
    "0.000000 seconds\n",
    "\n",
    "[4, 3, 1]\n",
    "\n",
    "21\n",
    "\n",
    "393.199997 seconds (7.41 G allocations: 291.485 GiB, 12.88% gc time, 0.04% compilation time)\n",
    "\n",
    "NetworkState(21, [4, 3, 1], false, 1)"
   ],
   "metadata": {}
  },
  {
   "cell_type": "markdown",
   "source": [],
   "metadata": {}
  }
 ],
 "metadata": {
  "kernelspec": {
   "display_name": "Julia 1.6.2",
   "language": "julia",
   "name": "julia-1.6"
  },
  "language_info": {
   "file_extension": ".jl",
   "mimetype": "application/julia",
   "name": "julia",
   "version": "1.6.2"
  }
 },
 "nbformat": 4,
 "nbformat_minor": 5
}