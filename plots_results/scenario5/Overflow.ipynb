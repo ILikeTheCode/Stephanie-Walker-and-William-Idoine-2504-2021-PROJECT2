{
 "cells": [
  {
   "cell_type": "markdown",
   "source": [
    "## Overflow for scenario 5 with initial_state = 12 "
   ],
   "metadata": {}
  },
  {
   "cell_type": "markdown",
   "source": [
    "0.000000 seconds\n",
    "\n",
    "[1, 0, 0, 1, 0, 0, 0, 0, 0, 0, 0, 0, 0, 0, 0, 0, 0, 0, 0, 0]\n",
    "\n",
    "14\n",
    "\n",
    "  0.339228 seconds (2.85 M allocations: 135.483 MiB, 6.04% gc time, 47.82% compilation time)\n",
    "  \n",
    "NetworkState(14, [1, 0, 0, 1, 0, 0, 0, 0, 0, 0, 0, 0, 0, 0, 0, 0, 0, 0, 0, 0], false, 0)"
   ],
   "metadata": {}
  },
  {
   "cell_type": "markdown",
   "source": [],
   "metadata": {}
  }
 ],
 "metadata": {
  "kernelspec": {
   "display_name": "Julia 1.6.2",
   "language": "julia",
   "name": "julia-1.6"
  }
 },
 "nbformat": 4,
 "nbformat_minor": 5
}