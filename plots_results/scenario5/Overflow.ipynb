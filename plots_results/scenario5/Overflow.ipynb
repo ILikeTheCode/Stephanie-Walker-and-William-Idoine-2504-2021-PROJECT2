{
 "cells": [
  {
   "cell_type": "markdown",
   "source": [
    "## Output from overflow test for scenario 5 with initial_state = 12 "
   ],
   "metadata": {}
  },
  {
   "cell_type": "markdown",
   "source": [
    "at time = 10e+4\n",
    "\n",
    "0.000000 seconds\n",
    "\n",
    "[1, 0, 0, 1, 0, 0, 0, 0, 0, 0, 0, 0, 0, 0, 0, 0, 0, 0, 0, 0]\n",
    "\n",
    "14\n",
    "\n",
    "  0.339228 seconds (2.85 M allocations: 135.483 MiB, 6.04% gc time, 47.82% compilation time)\n",
    "  \n",
    "NetworkState(14, [1, 0, 0, 1, 0, 0, 0, 0, 0, 0, 0, 0, 0, 0, 0, 0, 0, 0, 0, 0], false, 0)"
   ],
   "metadata": {}
  },
  {
   "cell_type": "markdown",
   "source": [
    "## Output from overflow test for scenario 5 with initial_state = 6"
   ],
   "metadata": {}
  },
  {
   "cell_type": "markdown",
   "source": [
    "at time = 10e+4\n",
    "\n",
    "0.000000 seconds\n",
    "\n",
    "[1, 0, 0, 1, 0, 0, 0, 0, 0, 0, 0, 0, 0, 0, 0, 0, 0, 0, 0, 0]\n",
    "\n",
    "8\n",
    "  0.376343 seconds (2.85 M allocations: 135.483 MiB, 5.38% gc time, 52.90% compilation time)\n",
    "\n",
    "NetworkState(8, [1, 0, 0, 1, 0, 0, 0, 0, 0, 0, 0, 0, 0, 0, 0, 0, 0, 0, 0, 0], false, 0)"
   ],
   "metadata": {}
  },
  {
   "cell_type": "markdown",
   "source": [
    "## Output from overflow test for scenario 5 with initial_state = 36"
   ],
   "metadata": {}
  },
  {
   "cell_type": "markdown",
   "source": [
    "at time = 10e+4\n",
    "\n",
    "0.000000 seconds\n",
    "\n",
    "[1, 0, 0, 1, 0, 0, 0, 0, 0, 0, 0, 0, 0, 0, 0, 0, 0, 0, 0, 0]\n",
    "\n",
    "38\n",
    "\n",
    "  0.377666 seconds (2.85 M allocations: 135.496 MiB, 5.01% gc time, 51.22% compilation time)\n",
    "  \n",
    "NetworkState(38, [1, 0, 0, 1, 0, 0, 0, 0, 0, 0, 0, 0, 0, 0, 0, 0, 0, 0, 0, 0], false, 0)"
   ],
   "metadata": {}
  },
  {
   "cell_type": "markdown",
   "source": [],
   "metadata": {}
  }
 ],
 "metadata": {
  "kernelspec": {
   "display_name": "Julia 1.6.2",
   "language": "julia",
   "name": "julia-1.6"
  }
 },
 "nbformat": 4,
 "nbformat_minor": 5
}